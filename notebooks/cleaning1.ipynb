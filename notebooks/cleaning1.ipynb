{
 "cells": [
  {
   "cell_type": "markdown",
   "id": "063f1d4a",
   "metadata": {},
   "source": [
    "**Cleaning Movies Metadata**"
   ]
  },
  {
   "cell_type": "code",
   "execution_count": 2,
   "id": "a2467bae",
   "metadata": {},
   "outputs": [
    {
     "name": "stderr",
     "output_type": "stream",
     "text": [
      "C:\\Users\\imihi\\AppData\\Local\\Temp\\ipykernel_9124\\1589309126.py:4: DtypeWarning: Columns (10) have mixed types. Specify dtype option on import or set low_memory=False.\n",
      "  movies = pd.read_csv('C:/Coding Projects/Movie-Recommender-Engine/data/movies_metadata.csv')\n"
     ]
    },
    {
     "data": {
      "text/plain": [
       "imdb_id\n",
       "tt1180333     True\n",
       "0             True\n",
       "tt0499537     True\n",
       "tt0082992     True\n",
       "tt0046468     True\n",
       "             ...  \n",
       "tt6209470    False\n",
       "tt2028550    False\n",
       "tt0303758    False\n",
       "tt0008536    False\n",
       "tt6980792    False\n",
       "Name: count, Length: 45417, dtype: bool"
      ]
     },
     "execution_count": 2,
     "metadata": {},
     "output_type": "execute_result"
    }
   ],
   "source": [
    "import pandas as pd\n",
    "import numpy as np\n",
    "\n",
    "movies = pd.read_csv('C:/Coding Projects/Movie-Recommender-Engine/data/movies_metadata.csv')\n",
    "id_counts = movies['imdb_id'].value_counts()\n",
    "id_counts > 1"
   ]
  },
  {
   "cell_type": "code",
   "execution_count": null,
   "id": "94ad26f8",
   "metadata": {},
   "outputs": [],
   "source": [
    "duplicate_ids = id_counts[id_counts > 1]\n",
    "duplicate_ids"
   ]
  },
  {
   "cell_type": "code",
   "execution_count": null,
   "id": "af03ab46",
   "metadata": {},
   "outputs": [],
   "source": [
    "duplicate_movies = movies[movies['imdb_id'].isin(duplicate_ids.index)]\n",
    "duplicate_movies.sort_values(by = ['imdb_id', 'id'])"
   ]
  },
  {
   "cell_type": "code",
   "execution_count": null,
   "id": "ada8757e",
   "metadata": {},
   "outputs": [],
   "source": [
    "movies.drop_duplicates(subset = ['imdb_id', 'id'], inplace = True) #Drop duplicate entries based on imdb_id and id"
   ]
  },
  {
   "cell_type": "code",
   "execution_count": null,
   "id": "b7ba9d51",
   "metadata": {},
   "outputs": [],
   "source": [
    "movies['imdb_id'].value_counts() #Duplicates are removed"
   ]
  },
  {
   "cell_type": "code",
   "execution_count": null,
   "id": "867c75b5",
   "metadata": {},
   "outputs": [],
   "source": [
    "#Drop rows where id or imdb_id is in an invalid format\n",
    "\n",
    "movies['id'] = pd.to_numeric(movies['id'], errors = 'coerce')\n",
    "movies.dropna(subset = ['id'], inplace = True)\n",
    "movies.dropna(subset = ['imdb_id'], inplace = True)\n",
    "\n",
    "movies['movie_id'] = movies['id'].astype(int)\n",
    "movies.drop(columns = ['id'], inplace = True)"
   ]
  },
  {
   "cell_type": "code",
   "execution_count": null,
   "id": "d141bde0",
   "metadata": {},
   "outputs": [],
   "source": [
    "#Rename original_title column to title\n",
    "\n",
    "movies['title'] = movies['title']\n",
    "movies.drop(columns = ['original_title'], inplace = True)"
   ]
  },
  {
   "cell_type": "code",
   "execution_count": null,
   "id": "a71becb2",
   "metadata": {},
   "outputs": [],
   "source": [
    "movies.head()"
   ]
  },
  {
   "cell_type": "code",
   "execution_count": null,
   "id": "18fc16e0",
   "metadata": {},
   "outputs": [],
   "source": [
    "movies['genres'] = movies['genres'].apply(lambda element: eval(element))"
   ]
  },
  {
   "cell_type": "code",
   "execution_count": null,
   "id": "41094bd4",
   "metadata": {},
   "outputs": [],
   "source": [
    "movies.loc[0, 'genres']\n",
    "movies['genres'] = movies['genres'].apply(lambda element: [d['name'] for d in element] if isinstance(element, list) else [])"
   ]
  },
  {
   "cell_type": "code",
   "execution_count": null,
   "id": "f0f8e212",
   "metadata": {},
   "outputs": [],
   "source": [
    "#Keep overviews\n",
    "movies.drop(columns = ['belongs_to_collection', 'budget', 'homepage', 'popularity', 'production_companies', 'production_countries', 'release_date', 'revenue', 'runtime', 'spoken_languages', 'status', 'poster_path', 'video', 'original_language', 'adult'], inplace = True)"
   ]
  },
  {
   "cell_type": "code",
   "execution_count": null,
   "id": "e8a71a9d",
   "metadata": {},
   "outputs": [],
   "source": [
    "movies['overview'] = movies['tagline'].fillna('').str.cat(movies['overview'].fillna(''), sep=' ')\n",
    "movies.drop(columns = ['tagline'], inplace = True)\n",
    "movies.head()"
   ]
  },
  {
   "cell_type": "code",
   "execution_count": null,
   "id": "7ab3a007",
   "metadata": {},
   "outputs": [],
   "source": [
    "\"\"\"Stem the keywords so there are less features in the TF-IDF matrix\"\"\"\n",
    "import string\n",
    "from nltk.stem.snowball import SnowballStemmer\n",
    "stemmer = SnowballStemmer('english')\n",
    "\n",
    "movies['overview'] = movies['overview'].str.split()\n",
    "movies['overview'] = movies['overview'].apply(lambda l: [stemmer.stem(word.strip(string.punctuation)) for word in l])\n",
    "movies.head()"
   ]
  },
  {
   "cell_type": "markdown",
   "id": "17d115e2",
   "metadata": {},
   "source": [
    "**Cleaning Keywords**\n",
    "\n",
    "Using the clean_keywords function for better organization and efficiency."
   ]
  },
  {
   "cell_type": "code",
   "execution_count": 3,
   "id": "9799d1a6",
   "metadata": {},
   "outputs": [
    {
     "data": {
      "text/html": [
       "<div>\n",
       "<style scoped>\n",
       "    .dataframe tbody tr th:only-of-type {\n",
       "        vertical-align: middle;\n",
       "    }\n",
       "\n",
       "    .dataframe tbody tr th {\n",
       "        vertical-align: top;\n",
       "    }\n",
       "\n",
       "    .dataframe thead th {\n",
       "        text-align: right;\n",
       "    }\n",
       "</style>\n",
       "<table border=\"1\" class=\"dataframe\">\n",
       "  <thead>\n",
       "    <tr style=\"text-align: right;\">\n",
       "      <th></th>\n",
       "      <th>keywords</th>\n",
       "      <th>movie_id</th>\n",
       "    </tr>\n",
       "  </thead>\n",
       "  <tbody>\n",
       "    <tr>\n",
       "      <th>0</th>\n",
       "      <td>[{'id': 931, 'name': 'jealousy'}, {'id': 4290,...</td>\n",
       "      <td>862</td>\n",
       "    </tr>\n",
       "    <tr>\n",
       "      <th>1</th>\n",
       "      <td>[{'id': 10090, 'name': 'board game'}, {'id': 1...</td>\n",
       "      <td>8844</td>\n",
       "    </tr>\n",
       "    <tr>\n",
       "      <th>2</th>\n",
       "      <td>[{'id': 1495, 'name': 'fishing'}, {'id': 12392...</td>\n",
       "      <td>15602</td>\n",
       "    </tr>\n",
       "    <tr>\n",
       "      <th>3</th>\n",
       "      <td>[{'id': 818, 'name': 'based on novel'}, {'id':...</td>\n",
       "      <td>31357</td>\n",
       "    </tr>\n",
       "    <tr>\n",
       "      <th>4</th>\n",
       "      <td>[{'id': 1009, 'name': 'baby'}, {'id': 1599, 'n...</td>\n",
       "      <td>11862</td>\n",
       "    </tr>\n",
       "  </tbody>\n",
       "</table>\n",
       "</div>"
      ],
      "text/plain": [
       "                                            keywords  movie_id\n",
       "0  [{'id': 931, 'name': 'jealousy'}, {'id': 4290,...       862\n",
       "1  [{'id': 10090, 'name': 'board game'}, {'id': 1...      8844\n",
       "2  [{'id': 1495, 'name': 'fishing'}, {'id': 12392...     15602\n",
       "3  [{'id': 818, 'name': 'based on novel'}, {'id':...     31357\n",
       "4  [{'id': 1009, 'name': 'baby'}, {'id': 1599, 'n...     11862"
      ]
     },
     "execution_count": 3,
     "metadata": {},
     "output_type": "execute_result"
    }
   ],
   "source": [
    "keywords = pd.read_csv('C:/Coding Projects/Movie-Recommender-Engine/data/keywords.csv')\n",
    "keywords['keywords'] = keywords['keywords'].apply(lambda element: eval(element))\n",
    "keywords['movie_id'] = keywords['id']\n",
    "keywords.drop(columns = ['id'], inplace = True)\n",
    "keywords.head()"
   ]
  },
  {
   "cell_type": "code",
   "execution_count": 4,
   "id": "607f0826",
   "metadata": {},
   "outputs": [
    {
     "data": {
      "text/html": [
       "<div>\n",
       "<style scoped>\n",
       "    .dataframe tbody tr th:only-of-type {\n",
       "        vertical-align: middle;\n",
       "    }\n",
       "\n",
       "    .dataframe tbody tr th {\n",
       "        vertical-align: top;\n",
       "    }\n",
       "\n",
       "    .dataframe thead th {\n",
       "        text-align: right;\n",
       "    }\n",
       "</style>\n",
       "<table border=\"1\" class=\"dataframe\">\n",
       "  <thead>\n",
       "    <tr style=\"text-align: right;\">\n",
       "      <th></th>\n",
       "      <th>keywords</th>\n",
       "      <th>movie_id</th>\n",
       "    </tr>\n",
       "  </thead>\n",
       "  <tbody>\n",
       "    <tr>\n",
       "      <th>0</th>\n",
       "      <td>[jealousy, toy, boy, friendship, friends, riva...</td>\n",
       "      <td>862</td>\n",
       "    </tr>\n",
       "    <tr>\n",
       "      <th>1</th>\n",
       "      <td>[board game, disappearance, based on children'...</td>\n",
       "      <td>8844</td>\n",
       "    </tr>\n",
       "    <tr>\n",
       "      <th>2</th>\n",
       "      <td>[fishing, best friend, duringcreditsstinger, o...</td>\n",
       "      <td>15602</td>\n",
       "    </tr>\n",
       "    <tr>\n",
       "      <th>3</th>\n",
       "      <td>[based on novel, interracial relationship, sin...</td>\n",
       "      <td>31357</td>\n",
       "    </tr>\n",
       "    <tr>\n",
       "      <th>4</th>\n",
       "      <td>[baby, midlife crisis, confidence, aging, daug...</td>\n",
       "      <td>11862</td>\n",
       "    </tr>\n",
       "  </tbody>\n",
       "</table>\n",
       "</div>"
      ],
      "text/plain": [
       "                                            keywords  movie_id\n",
       "0  [jealousy, toy, boy, friendship, friends, riva...       862\n",
       "1  [board game, disappearance, based on children'...      8844\n",
       "2  [fishing, best friend, duringcreditsstinger, o...     15602\n",
       "3  [based on novel, interracial relationship, sin...     31357\n",
       "4  [baby, midlife crisis, confidence, aging, daug...     11862"
      ]
     },
     "execution_count": 4,
     "metadata": {},
     "output_type": "execute_result"
    }
   ],
   "source": [
    "keywords['keywords'] = keywords['keywords'].apply(lambda element: [d['name'] for d in element] if isinstance(element, list) else [])\n",
    "keywords.head()"
   ]
  },
  {
   "cell_type": "code",
   "execution_count": 5,
   "id": "2d104df3",
   "metadata": {},
   "outputs": [
    {
     "data": {
      "text/plain": [
       "penniless             1\n",
       "acab                  1\n",
       "remains               1\n",
       "ancient tablet        1\n",
       "coming home           1\n",
       "                     ..\n",
       "helping animals       1\n",
       "animal agriculture    1\n",
       "brother sister        1\n",
       "bad boy               1\n",
       "biloxi mississippi    1\n",
       "Name: count, Length: 8559, dtype: int64"
      ]
     },
     "execution_count": 5,
     "metadata": {},
     "output_type": "execute_result"
    }
   ],
   "source": [
    "all_keywords = keywords['keywords'].apply(lambda l: pd.Series(l)).stack().value_counts()\n",
    "unique_keywords = all_keywords[all_keywords == 1]\n",
    "unique_keywords"
   ]
  },
  {
   "cell_type": "code",
   "execution_count": null,
   "id": "eb8a0e30",
   "metadata": {},
   "outputs": [],
   "source": [
    "keywords['keywords'] = keywords['keywords'].apply(lambda l: [element for element in l if element not in unique_keywords.index])\n",
    "keywords.head()"
   ]
  },
  {
   "cell_type": "code",
   "execution_count": null,
   "id": "d34c1a4b",
   "metadata": {},
   "outputs": [],
   "source": [
    "\"\"\"Stem the keywords so there are less features in the TF-IDF matrix\"\"\"\n",
    "keywords['keywords'] = keywords['keywords'].apply(lambda l: [stemmer.stem(word) for word in l])"
   ]
  },
  {
   "cell_type": "code",
   "execution_count": null,
   "id": "55c7d224",
   "metadata": {},
   "outputs": [],
   "source": [
    "keywords.head()"
   ]
  },
  {
   "cell_type": "markdown",
   "id": "912dde84",
   "metadata": {},
   "source": [
    "**Cleaning credits**"
   ]
  },
  {
   "cell_type": "code",
   "execution_count": null,
   "id": "03c6f8a6",
   "metadata": {},
   "outputs": [],
   "source": [
    "credits = pd.read_csv('C:/Coding Projects/Movie-Recommender-Engine/data/credits.csv')\n",
    "credits.head()"
   ]
  },
  {
   "cell_type": "code",
   "execution_count": null,
   "id": "055d1e7b",
   "metadata": {},
   "outputs": [],
   "source": [
    "credits['cast'] = credits['cast'].apply(lambda element: eval(element))\n",
    "credits['crew'] = credits['crew'].apply(lambda element: eval(element))\n",
    "credits.head()"
   ]
  },
  {
   "cell_type": "code",
   "execution_count": null,
   "id": "d01e04ed",
   "metadata": {},
   "outputs": [],
   "source": [
    "credits['director'] = credits['crew'].apply(lambda element: [d['name'] for d in element if 'director' in d['job'].lower()] if isinstance(element, list) else [])\n",
    "\n",
    "\"\"\"Turn the director names into a single string not seperated by spaces (otherwise first and last name will be treated as different terms in TF-IDF vectorization)\"\"\"\n",
    "\n",
    "credits['director'] = credits['director'].apply(lambda l: [''.join(fullname.split()) for fullname in l])\n",
    "credits['director'].head(1).values[0]"
   ]
  },
  {
   "cell_type": "code",
   "execution_count": null,
   "id": "04cea253",
   "metadata": {},
   "outputs": [],
   "source": [
    "\"\"\"Find the cast members that only appear in one movie\"\"\"\n",
    "\n",
    "director_name_counts = credits['director'].apply(lambda l: pd.Series(l)).stack().value_counts()\n",
    "unique_directors = director_name_counts[director_name_counts == 1]\n",
    "unique_directors.head(30)\n",
    "unique_directors.info()"
   ]
  },
  {
   "cell_type": "code",
   "execution_count": null,
   "id": "8f02fc06",
   "metadata": {},
   "outputs": [],
   "source": [
    "\"\"\"Get rid of the cast members that only appear in one movie (they will not be useful for finding similarities between movies)\"\"\"\n",
    "\n",
    "credits['director'] = credits['director'].apply(lambda l: [name for name in l if name not in unique_directors.index])\n",
    "credits['director'].head()"
   ]
  },
  {
   "cell_type": "code",
   "execution_count": null,
   "id": "25da078f",
   "metadata": {},
   "outputs": [],
   "source": [
    "credits.head()"
   ]
  },
  {
   "cell_type": "code",
   "execution_count": null,
   "id": "38fba999",
   "metadata": {},
   "outputs": [],
   "source": [
    "top_3_actors = credits['cast'].apply(lambda l: [d['name'] for d in l][0:3])\n",
    "top_3_actors = top_3_actors.apply(lambda l: [''.join(fullname.split()) for fullname in l])\n",
    "top_3_actors.head()"
   ]
  },
  {
   "cell_type": "code",
   "execution_count": null,
   "id": "985caa0e",
   "metadata": {},
   "outputs": [],
   "source": [
    "credits['top_3_actors'] = top_3_actors\n",
    "credits.head()"
   ]
  },
  {
   "cell_type": "code",
   "execution_count": null,
   "id": "4d26918d",
   "metadata": {},
   "outputs": [],
   "source": [
    "credits['movie_id'] = credits['id']\n",
    "credits.drop(columns = ['id'], inplace = True)\n",
    "credits.head()"
   ]
  },
  {
   "cell_type": "code",
   "execution_count": null,
   "id": "69f7ecf9",
   "metadata": {},
   "outputs": [],
   "source": [
    "#Director should be weighted more than other cast members\n",
    "credits['director'] = credits['director'] * 3\n",
    "credits.head()"
   ]
  },
  {
   "cell_type": "markdown",
   "id": "0237a4fa",
   "metadata": {},
   "source": [
    "**Merge Keywords and Credits into Movies**"
   ]
  },
  {
   "cell_type": "code",
   "execution_count": null,
   "id": "2b98bbab",
   "metadata": {},
   "outputs": [],
   "source": [
    "movies = movies.merge(keywords, on = 'movie_id', how = 'inner')\n",
    "movies.head()"
   ]
  },
  {
   "cell_type": "code",
   "execution_count": null,
   "id": "37a2ecaa",
   "metadata": {},
   "outputs": [],
   "source": [
    "movies = movies.merge(credits.loc[:, ['movie_id', 'top_3_actors', 'director']], on='movie_id', how='left')\n",
    "movies['top_3_actors'] = movies['top_3_actors'].apply(lambda x: x if isinstance(x, list) else [])\n",
    "movies.head()"
   ]
  },
  {
   "cell_type": "code",
   "execution_count": null,
   "id": "12883e36",
   "metadata": {},
   "outputs": [],
   "source": [
    "movies.head()"
   ]
  },
  {
   "cell_type": "markdown",
   "id": "c72c91bc",
   "metadata": {},
   "source": [
    "**Create the Cosine Similarity Matrix between movies**"
   ]
  },
  {
   "cell_type": "code",
   "execution_count": null,
   "id": "13d91902",
   "metadata": {},
   "outputs": [],
   "source": [
    "movies.head()\n",
    "\"\"\"metadata_dump = movies['overview'] + movies['genres'] + movies['keywords'] + movies['top_3_actors'] + movies['director']\n",
    "movies['metadata_dump'] = metadata_dump.cumsum()\n",
    "movies.drop(columns = ['overview', 'genres', 'keywords', 'top_3_actors', 'director'], inplace = True)\"\"\""
   ]
  },
  {
   "cell_type": "code",
   "execution_count": null,
   "id": "15afee47",
   "metadata": {},
   "outputs": [],
   "source": [
    "#movies.apply(sum, axis = 1)"
   ]
  },
  {
   "cell_type": "code",
   "execution_count": null,
   "id": "2c12c5b8",
   "metadata": {},
   "outputs": [],
   "source": [
    "movies['metadata_dump'] = pd.Series(dtype=str)\n",
    "\n",
    "fields = ['overview', 'genres', 'keywords', 'top_3_actors', 'director']\n",
    "def generate_metadata_dump_entry():\n",
    "    for index in movies.index:\n",
    "        res =  ' '.join(' '.join(movies.at[index, field]) for field in fields)\n",
    "        movies.at[index, 'metadata_dump'] = res\n",
    "\n",
    "        for field in fields:\n",
    "            movies.at[index, field] = ''\n",
    "\n",
    "generate_metadata_dump_entry()\n"
   ]
  },
  {
   "cell_type": "code",
   "execution_count": null,
   "id": "094e364f",
   "metadata": {},
   "outputs": [],
   "source": [
    "movies = movies.drop(columns = fields)\n",
    "movies.head()"
   ]
  },
  {
   "cell_type": "code",
   "execution_count": null,
   "id": "38e2756d",
   "metadata": {},
   "outputs": [],
   "source": [
    "from sklearn.feature_extraction.text import TfidfVectorizer\n",
    "tfidf_vectorizer = TfidfVectorizer(stop_words = 'english', ngram_range = (1, 2), min_df = 3)\n",
    "dtm = tfidf_vectorizer.fit_transform(movies['metadata_dump'])"
   ]
  },
  {
   "cell_type": "code",
   "execution_count": null,
   "id": "2a8c8b6c",
   "metadata": {},
   "outputs": [],
   "source": [
    "from sklearn.metrics.pairwise import cosine_similarity\n",
    "cosine_sim_matrix = pd.DataFrame(cosine_similarity(dtm, dense_output = True))\n",
    "cosine_sim_matrix.index = movies.index\n",
    "cosine_sim_matrix.columns = movies.index"
   ]
  },
  {
   "cell_type": "code",
   "execution_count": null,
   "id": "2cdee46e",
   "metadata": {},
   "outputs": [],
   "source": [
    "cosine_sim_matrix['movie_id'] = movies.index\n",
    "columns = ['movie_id'] +[col_name for col_name in cosine_sim_matrix.columns if col_name != 'movie_id']\n",
    "cosine_sim_matrix = cosine_sim_matrix[columns]\n",
    "cosine_sim_matrix.head()\n"
   ]
  },
  {
   "cell_type": "markdown",
   "id": "b46be068",
   "metadata": {},
   "source": [
    "**Create the correlation matrix for movie ratings**"
   ]
  },
  {
   "cell_type": "code",
   "execution_count": 181,
   "id": "a80c1e8f",
   "metadata": {},
   "outputs": [
    {
     "data": {
      "text/html": [
       "<div>\n",
       "<style scoped>\n",
       "    .dataframe tbody tr th:only-of-type {\n",
       "        vertical-align: middle;\n",
       "    }\n",
       "\n",
       "    .dataframe tbody tr th {\n",
       "        vertical-align: top;\n",
       "    }\n",
       "\n",
       "    .dataframe thead th {\n",
       "        text-align: right;\n",
       "    }\n",
       "</style>\n",
       "<table border=\"1\" class=\"dataframe\">\n",
       "  <thead>\n",
       "    <tr style=\"text-align: right;\">\n",
       "      <th></th>\n",
       "      <th>userId</th>\n",
       "      <th>movieId</th>\n",
       "      <th>rating</th>\n",
       "      <th>timestamp</th>\n",
       "    </tr>\n",
       "  </thead>\n",
       "  <tbody>\n",
       "    <tr>\n",
       "      <th>0</th>\n",
       "      <td>1</td>\n",
       "      <td>31</td>\n",
       "      <td>2.5</td>\n",
       "      <td>1260759144</td>\n",
       "    </tr>\n",
       "    <tr>\n",
       "      <th>1</th>\n",
       "      <td>1</td>\n",
       "      <td>1029</td>\n",
       "      <td>3.0</td>\n",
       "      <td>1260759179</td>\n",
       "    </tr>\n",
       "    <tr>\n",
       "      <th>2</th>\n",
       "      <td>1</td>\n",
       "      <td>1061</td>\n",
       "      <td>3.0</td>\n",
       "      <td>1260759182</td>\n",
       "    </tr>\n",
       "    <tr>\n",
       "      <th>3</th>\n",
       "      <td>1</td>\n",
       "      <td>1129</td>\n",
       "      <td>2.0</td>\n",
       "      <td>1260759185</td>\n",
       "    </tr>\n",
       "    <tr>\n",
       "      <th>4</th>\n",
       "      <td>1</td>\n",
       "      <td>1172</td>\n",
       "      <td>4.0</td>\n",
       "      <td>1260759205</td>\n",
       "    </tr>\n",
       "  </tbody>\n",
       "</table>\n",
       "</div>"
      ],
      "text/plain": [
       "   userId  movieId  rating   timestamp\n",
       "0       1       31     2.5  1260759144\n",
       "1       1     1029     3.0  1260759179\n",
       "2       1     1061     3.0  1260759182\n",
       "3       1     1129     2.0  1260759185\n",
       "4       1     1172     4.0  1260759205"
      ]
     },
     "execution_count": 181,
     "metadata": {},
     "output_type": "execute_result"
    }
   ],
   "source": [
    "movie_ratings = pd.read_csv(f'C:/Coding Projects/Movie-Recommender-Engine/data/ratings_small.csv')\n",
    "movie_ratings.head()"
   ]
  },
  {
   "cell_type": "code",
   "execution_count": 182,
   "id": "cb25d44d",
   "metadata": {},
   "outputs": [
    {
     "data": {
      "text/html": [
       "<div>\n",
       "<style scoped>\n",
       "    .dataframe tbody tr th:only-of-type {\n",
       "        vertical-align: middle;\n",
       "    }\n",
       "\n",
       "    .dataframe tbody tr th {\n",
       "        vertical-align: top;\n",
       "    }\n",
       "\n",
       "    .dataframe thead th {\n",
       "        text-align: right;\n",
       "    }\n",
       "</style>\n",
       "<table border=\"1\" class=\"dataframe\">\n",
       "  <thead>\n",
       "    <tr style=\"text-align: right;\">\n",
       "      <th></th>\n",
       "      <th>imdb_id</th>\n",
       "      <th>title</th>\n",
       "      <th>vote_average</th>\n",
       "      <th>vote_count</th>\n",
       "      <th>movie_id</th>\n",
       "      <th>metadata_dump</th>\n",
       "    </tr>\n",
       "  </thead>\n",
       "  <tbody>\n",
       "    <tr>\n",
       "      <th>0</th>\n",
       "      <td>tt0114709</td>\n",
       "      <td>Toy Story</td>\n",
       "      <td>7.7</td>\n",
       "      <td>5415.0</td>\n",
       "      <td>862</td>\n",
       "      <td>led by woodi andi toy live happili in his room...</td>\n",
       "    </tr>\n",
       "    <tr>\n",
       "      <th>1</th>\n",
       "      <td>tt0113497</td>\n",
       "      <td>Jumanji</td>\n",
       "      <td>6.9</td>\n",
       "      <td>2413.0</td>\n",
       "      <td>8844</td>\n",
       "      <td>roll the dice and unleash the excit when sibl ...</td>\n",
       "    </tr>\n",
       "    <tr>\n",
       "      <th>2</th>\n",
       "      <td>tt0113228</td>\n",
       "      <td>Grumpier Old Men</td>\n",
       "      <td>6.5</td>\n",
       "      <td>92.0</td>\n",
       "      <td>15602</td>\n",
       "      <td>still yell still fight still readi for love a ...</td>\n",
       "    </tr>\n",
       "    <tr>\n",
       "      <th>3</th>\n",
       "      <td>tt0114885</td>\n",
       "      <td>Waiting to Exhale</td>\n",
       "      <td>6.1</td>\n",
       "      <td>34.0</td>\n",
       "      <td>31357</td>\n",
       "      <td>friend are the peopl who let you be yourself a...</td>\n",
       "    </tr>\n",
       "    <tr>\n",
       "      <th>4</th>\n",
       "      <td>tt0113041</td>\n",
       "      <td>Father of the Bride Part II</td>\n",
       "      <td>5.7</td>\n",
       "      <td>173.0</td>\n",
       "      <td>11862</td>\n",
       "      <td>just when his world is back to normal he in fo...</td>\n",
       "    </tr>\n",
       "  </tbody>\n",
       "</table>\n",
       "</div>"
      ],
      "text/plain": [
       "     imdb_id                        title  vote_average  vote_count  movie_id  \\\n",
       "0  tt0114709                    Toy Story           7.7      5415.0       862   \n",
       "1  tt0113497                      Jumanji           6.9      2413.0      8844   \n",
       "2  tt0113228             Grumpier Old Men           6.5        92.0     15602   \n",
       "3  tt0114885            Waiting to Exhale           6.1        34.0     31357   \n",
       "4  tt0113041  Father of the Bride Part II           5.7       173.0     11862   \n",
       "\n",
       "                                       metadata_dump  \n",
       "0  led by woodi andi toy live happili in his room...  \n",
       "1  roll the dice and unleash the excit when sibl ...  \n",
       "2  still yell still fight still readi for love a ...  \n",
       "3  friend are the peopl who let you be yourself a...  \n",
       "4  just when his world is back to normal he in fo...  "
      ]
     },
     "execution_count": 182,
     "metadata": {},
     "output_type": "execute_result"
    }
   ],
   "source": [
    "movie_ratings = movie_ratings.pivot_table(index = 'userId', columns = 'movieId', values = 'rating')\n",
    "movies.head()"
   ]
  },
  {
   "cell_type": "code",
   "execution_count": 183,
   "id": "3d2d81c9",
   "metadata": {},
   "outputs": [
    {
     "name": "stdout",
     "output_type": "stream",
     "text": [
      "<class 'pandas.core.frame.DataFrame'>\n",
      "Index: 671 entries, 1 to 671\n",
      "Columns: 9066 entries, 1 to 163949\n",
      "dtypes: float64(9066)\n",
      "memory usage: 46.4 MB\n"
     ]
    }
   ],
   "source": [
    "movie_ratings.info()"
   ]
  },
  {
   "cell_type": "code",
   "execution_count": 186,
   "id": "21609866",
   "metadata": {},
   "outputs": [
    {
     "data": {
      "text/html": [
       "<div>\n",
       "<style scoped>\n",
       "    .dataframe tbody tr th:only-of-type {\n",
       "        vertical-align: middle;\n",
       "    }\n",
       "\n",
       "    .dataframe tbody tr th {\n",
       "        vertical-align: top;\n",
       "    }\n",
       "\n",
       "    .dataframe thead th {\n",
       "        text-align: right;\n",
       "    }\n",
       "</style>\n",
       "<table border=\"1\" class=\"dataframe\">\n",
       "  <thead>\n",
       "    <tr style=\"text-align: right;\">\n",
       "      <th>movieId</th>\n",
       "      <th>1</th>\n",
       "      <th>2</th>\n",
       "      <th>3</th>\n",
       "      <th>4</th>\n",
       "      <th>5</th>\n",
       "      <th>6</th>\n",
       "      <th>7</th>\n",
       "      <th>8</th>\n",
       "      <th>9</th>\n",
       "      <th>10</th>\n",
       "      <th>...</th>\n",
       "      <th>161084</th>\n",
       "      <th>161155</th>\n",
       "      <th>161594</th>\n",
       "      <th>161830</th>\n",
       "      <th>161918</th>\n",
       "      <th>161944</th>\n",
       "      <th>162376</th>\n",
       "      <th>162542</th>\n",
       "      <th>162672</th>\n",
       "      <th>163949</th>\n",
       "    </tr>\n",
       "    <tr>\n",
       "      <th>movieId</th>\n",
       "      <th></th>\n",
       "      <th></th>\n",
       "      <th></th>\n",
       "      <th></th>\n",
       "      <th></th>\n",
       "      <th></th>\n",
       "      <th></th>\n",
       "      <th></th>\n",
       "      <th></th>\n",
       "      <th></th>\n",
       "      <th></th>\n",
       "      <th></th>\n",
       "      <th></th>\n",
       "      <th></th>\n",
       "      <th></th>\n",
       "      <th></th>\n",
       "      <th></th>\n",
       "      <th></th>\n",
       "      <th></th>\n",
       "      <th></th>\n",
       "      <th></th>\n",
       "    </tr>\n",
       "  </thead>\n",
       "  <tbody>\n",
       "    <tr>\n",
       "      <th>1</th>\n",
       "      <td>1.000000</td>\n",
       "      <td>0.363256</td>\n",
       "      <td>0.255080</td>\n",
       "      <td>-0.031564</td>\n",
       "      <td>0.279521</td>\n",
       "      <td>0.030998</td>\n",
       "      <td>0.350519</td>\n",
       "      <td>NaN</td>\n",
       "      <td>-0.312002</td>\n",
       "      <td>0.096792</td>\n",
       "      <td>...</td>\n",
       "      <td>NaN</td>\n",
       "      <td>NaN</td>\n",
       "      <td>NaN</td>\n",
       "      <td>NaN</td>\n",
       "      <td>NaN</td>\n",
       "      <td>NaN</td>\n",
       "      <td>NaN</td>\n",
       "      <td>NaN</td>\n",
       "      <td>NaN</td>\n",
       "      <td>NaN</td>\n",
       "    </tr>\n",
       "    <tr>\n",
       "      <th>2</th>\n",
       "      <td>0.363256</td>\n",
       "      <td>1.000000</td>\n",
       "      <td>0.187217</td>\n",
       "      <td>NaN</td>\n",
       "      <td>0.035446</td>\n",
       "      <td>-0.019630</td>\n",
       "      <td>0.425928</td>\n",
       "      <td>NaN</td>\n",
       "      <td>NaN</td>\n",
       "      <td>0.438066</td>\n",
       "      <td>...</td>\n",
       "      <td>NaN</td>\n",
       "      <td>NaN</td>\n",
       "      <td>NaN</td>\n",
       "      <td>NaN</td>\n",
       "      <td>NaN</td>\n",
       "      <td>NaN</td>\n",
       "      <td>NaN</td>\n",
       "      <td>NaN</td>\n",
       "      <td>NaN</td>\n",
       "      <td>NaN</td>\n",
       "    </tr>\n",
       "    <tr>\n",
       "      <th>3</th>\n",
       "      <td>0.255080</td>\n",
       "      <td>0.187217</td>\n",
       "      <td>1.000000</td>\n",
       "      <td>NaN</td>\n",
       "      <td>0.560180</td>\n",
       "      <td>-0.075918</td>\n",
       "      <td>0.050120</td>\n",
       "      <td>NaN</td>\n",
       "      <td>0.496904</td>\n",
       "      <td>0.164039</td>\n",
       "      <td>...</td>\n",
       "      <td>NaN</td>\n",
       "      <td>NaN</td>\n",
       "      <td>NaN</td>\n",
       "      <td>NaN</td>\n",
       "      <td>NaN</td>\n",
       "      <td>NaN</td>\n",
       "      <td>NaN</td>\n",
       "      <td>NaN</td>\n",
       "      <td>NaN</td>\n",
       "      <td>NaN</td>\n",
       "    </tr>\n",
       "    <tr>\n",
       "      <th>4</th>\n",
       "      <td>-0.031564</td>\n",
       "      <td>NaN</td>\n",
       "      <td>NaN</td>\n",
       "      <td>1.000000</td>\n",
       "      <td>NaN</td>\n",
       "      <td>NaN</td>\n",
       "      <td>NaN</td>\n",
       "      <td>NaN</td>\n",
       "      <td>NaN</td>\n",
       "      <td>NaN</td>\n",
       "      <td>...</td>\n",
       "      <td>NaN</td>\n",
       "      <td>NaN</td>\n",
       "      <td>NaN</td>\n",
       "      <td>NaN</td>\n",
       "      <td>NaN</td>\n",
       "      <td>NaN</td>\n",
       "      <td>NaN</td>\n",
       "      <td>NaN</td>\n",
       "      <td>NaN</td>\n",
       "      <td>NaN</td>\n",
       "    </tr>\n",
       "    <tr>\n",
       "      <th>5</th>\n",
       "      <td>0.279521</td>\n",
       "      <td>0.035446</td>\n",
       "      <td>0.560180</td>\n",
       "      <td>NaN</td>\n",
       "      <td>1.000000</td>\n",
       "      <td>0.383228</td>\n",
       "      <td>0.012493</td>\n",
       "      <td>NaN</td>\n",
       "      <td>0.225689</td>\n",
       "      <td>0.077864</td>\n",
       "      <td>...</td>\n",
       "      <td>NaN</td>\n",
       "      <td>NaN</td>\n",
       "      <td>NaN</td>\n",
       "      <td>NaN</td>\n",
       "      <td>NaN</td>\n",
       "      <td>NaN</td>\n",
       "      <td>NaN</td>\n",
       "      <td>NaN</td>\n",
       "      <td>NaN</td>\n",
       "      <td>NaN</td>\n",
       "    </tr>\n",
       "  </tbody>\n",
       "</table>\n",
       "<p>5 rows × 9066 columns</p>\n",
       "</div>"
      ],
      "text/plain": [
       "movieId    1         2         3         4         5         6         7       \\\n",
       "movieId                                                                         \n",
       "1        1.000000  0.363256  0.255080 -0.031564  0.279521  0.030998  0.350519   \n",
       "2        0.363256  1.000000  0.187217       NaN  0.035446 -0.019630  0.425928   \n",
       "3        0.255080  0.187217  1.000000       NaN  0.560180 -0.075918  0.050120   \n",
       "4       -0.031564       NaN       NaN  1.000000       NaN       NaN       NaN   \n",
       "5        0.279521  0.035446  0.560180       NaN  1.000000  0.383228  0.012493   \n",
       "\n",
       "movieId  8         9         10      ...  161084  161155  161594  161830  \\\n",
       "movieId                              ...                                   \n",
       "1           NaN -0.312002  0.096792  ...     NaN     NaN     NaN     NaN   \n",
       "2           NaN       NaN  0.438066  ...     NaN     NaN     NaN     NaN   \n",
       "3           NaN  0.496904  0.164039  ...     NaN     NaN     NaN     NaN   \n",
       "4           NaN       NaN       NaN  ...     NaN     NaN     NaN     NaN   \n",
       "5           NaN  0.225689  0.077864  ...     NaN     NaN     NaN     NaN   \n",
       "\n",
       "movieId  161918  161944  162376  162542  162672  163949  \n",
       "movieId                                                  \n",
       "1           NaN     NaN     NaN     NaN     NaN     NaN  \n",
       "2           NaN     NaN     NaN     NaN     NaN     NaN  \n",
       "3           NaN     NaN     NaN     NaN     NaN     NaN  \n",
       "4           NaN     NaN     NaN     NaN     NaN     NaN  \n",
       "5           NaN     NaN     NaN     NaN     NaN     NaN  \n",
       "\n",
       "[5 rows x 9066 columns]"
      ]
     },
     "execution_count": 186,
     "metadata": {},
     "output_type": "execute_result"
    }
   ],
   "source": [
    "correlation_matrix = movie_ratings.corr(method = 'pearson', min_periods = 7)\n",
    "correlation_matrix.head()"
   ]
  },
  {
   "cell_type": "code",
   "execution_count": 187,
   "id": "12efa675",
   "metadata": {},
   "outputs": [
    {
     "data": {
      "text/html": [
       "<div>\n",
       "<style scoped>\n",
       "    .dataframe tbody tr th:only-of-type {\n",
       "        vertical-align: middle;\n",
       "    }\n",
       "\n",
       "    .dataframe tbody tr th {\n",
       "        vertical-align: top;\n",
       "    }\n",
       "\n",
       "    .dataframe thead th {\n",
       "        text-align: right;\n",
       "    }\n",
       "</style>\n",
       "<table border=\"1\" class=\"dataframe\">\n",
       "  <thead>\n",
       "    <tr style=\"text-align: right;\">\n",
       "      <th></th>\n",
       "      <th>movie_id</th>\n",
       "      <th>1</th>\n",
       "      <th>2</th>\n",
       "      <th>3</th>\n",
       "      <th>4</th>\n",
       "      <th>5</th>\n",
       "      <th>6</th>\n",
       "      <th>7</th>\n",
       "      <th>8</th>\n",
       "      <th>9</th>\n",
       "      <th>...</th>\n",
       "      <th>161084</th>\n",
       "      <th>161155</th>\n",
       "      <th>161594</th>\n",
       "      <th>161830</th>\n",
       "      <th>161918</th>\n",
       "      <th>161944</th>\n",
       "      <th>162376</th>\n",
       "      <th>162542</th>\n",
       "      <th>162672</th>\n",
       "      <th>163949</th>\n",
       "    </tr>\n",
       "  </thead>\n",
       "  <tbody>\n",
       "    <tr>\n",
       "      <th>1</th>\n",
       "      <td>1</td>\n",
       "      <td>1.000000</td>\n",
       "      <td>0.363256</td>\n",
       "      <td>0.255080</td>\n",
       "      <td>-0.031564</td>\n",
       "      <td>0.279521</td>\n",
       "      <td>0.030998</td>\n",
       "      <td>0.350519</td>\n",
       "      <td>NaN</td>\n",
       "      <td>-0.312002</td>\n",
       "      <td>...</td>\n",
       "      <td>NaN</td>\n",
       "      <td>NaN</td>\n",
       "      <td>NaN</td>\n",
       "      <td>NaN</td>\n",
       "      <td>NaN</td>\n",
       "      <td>NaN</td>\n",
       "      <td>NaN</td>\n",
       "      <td>NaN</td>\n",
       "      <td>NaN</td>\n",
       "      <td>NaN</td>\n",
       "    </tr>\n",
       "    <tr>\n",
       "      <th>2</th>\n",
       "      <td>2</td>\n",
       "      <td>0.363256</td>\n",
       "      <td>1.000000</td>\n",
       "      <td>0.187217</td>\n",
       "      <td>NaN</td>\n",
       "      <td>0.035446</td>\n",
       "      <td>-0.019630</td>\n",
       "      <td>0.425928</td>\n",
       "      <td>NaN</td>\n",
       "      <td>NaN</td>\n",
       "      <td>...</td>\n",
       "      <td>NaN</td>\n",
       "      <td>NaN</td>\n",
       "      <td>NaN</td>\n",
       "      <td>NaN</td>\n",
       "      <td>NaN</td>\n",
       "      <td>NaN</td>\n",
       "      <td>NaN</td>\n",
       "      <td>NaN</td>\n",
       "      <td>NaN</td>\n",
       "      <td>NaN</td>\n",
       "    </tr>\n",
       "    <tr>\n",
       "      <th>3</th>\n",
       "      <td>3</td>\n",
       "      <td>0.255080</td>\n",
       "      <td>0.187217</td>\n",
       "      <td>1.000000</td>\n",
       "      <td>NaN</td>\n",
       "      <td>0.560180</td>\n",
       "      <td>-0.075918</td>\n",
       "      <td>0.050120</td>\n",
       "      <td>NaN</td>\n",
       "      <td>0.496904</td>\n",
       "      <td>...</td>\n",
       "      <td>NaN</td>\n",
       "      <td>NaN</td>\n",
       "      <td>NaN</td>\n",
       "      <td>NaN</td>\n",
       "      <td>NaN</td>\n",
       "      <td>NaN</td>\n",
       "      <td>NaN</td>\n",
       "      <td>NaN</td>\n",
       "      <td>NaN</td>\n",
       "      <td>NaN</td>\n",
       "    </tr>\n",
       "    <tr>\n",
       "      <th>4</th>\n",
       "      <td>4</td>\n",
       "      <td>-0.031564</td>\n",
       "      <td>NaN</td>\n",
       "      <td>NaN</td>\n",
       "      <td>1.000000</td>\n",
       "      <td>NaN</td>\n",
       "      <td>NaN</td>\n",
       "      <td>NaN</td>\n",
       "      <td>NaN</td>\n",
       "      <td>NaN</td>\n",
       "      <td>...</td>\n",
       "      <td>NaN</td>\n",
       "      <td>NaN</td>\n",
       "      <td>NaN</td>\n",
       "      <td>NaN</td>\n",
       "      <td>NaN</td>\n",
       "      <td>NaN</td>\n",
       "      <td>NaN</td>\n",
       "      <td>NaN</td>\n",
       "      <td>NaN</td>\n",
       "      <td>NaN</td>\n",
       "    </tr>\n",
       "    <tr>\n",
       "      <th>5</th>\n",
       "      <td>5</td>\n",
       "      <td>0.279521</td>\n",
       "      <td>0.035446</td>\n",
       "      <td>0.560180</td>\n",
       "      <td>NaN</td>\n",
       "      <td>1.000000</td>\n",
       "      <td>0.383228</td>\n",
       "      <td>0.012493</td>\n",
       "      <td>NaN</td>\n",
       "      <td>0.225689</td>\n",
       "      <td>...</td>\n",
       "      <td>NaN</td>\n",
       "      <td>NaN</td>\n",
       "      <td>NaN</td>\n",
       "      <td>NaN</td>\n",
       "      <td>NaN</td>\n",
       "      <td>NaN</td>\n",
       "      <td>NaN</td>\n",
       "      <td>NaN</td>\n",
       "      <td>NaN</td>\n",
       "      <td>NaN</td>\n",
       "    </tr>\n",
       "  </tbody>\n",
       "</table>\n",
       "<p>5 rows × 9067 columns</p>\n",
       "</div>"
      ],
      "text/plain": [
       "   movie_id         1         2         3         4         5         6  \\\n",
       "1         1  1.000000  0.363256  0.255080 -0.031564  0.279521  0.030998   \n",
       "2         2  0.363256  1.000000  0.187217       NaN  0.035446 -0.019630   \n",
       "3         3  0.255080  0.187217  1.000000       NaN  0.560180 -0.075918   \n",
       "4         4 -0.031564       NaN       NaN  1.000000       NaN       NaN   \n",
       "5         5  0.279521  0.035446  0.560180       NaN  1.000000  0.383228   \n",
       "\n",
       "          7   8         9  ...  161084  161155  161594  161830  161918  \\\n",
       "1  0.350519 NaN -0.312002  ...     NaN     NaN     NaN     NaN     NaN   \n",
       "2  0.425928 NaN       NaN  ...     NaN     NaN     NaN     NaN     NaN   \n",
       "3  0.050120 NaN  0.496904  ...     NaN     NaN     NaN     NaN     NaN   \n",
       "4       NaN NaN       NaN  ...     NaN     NaN     NaN     NaN     NaN   \n",
       "5  0.012493 NaN  0.225689  ...     NaN     NaN     NaN     NaN     NaN   \n",
       "\n",
       "   161944  162376  162542  162672  163949  \n",
       "1     NaN     NaN     NaN     NaN     NaN  \n",
       "2     NaN     NaN     NaN     NaN     NaN  \n",
       "3     NaN     NaN     NaN     NaN     NaN  \n",
       "4     NaN     NaN     NaN     NaN     NaN  \n",
       "5     NaN     NaN     NaN     NaN     NaN  \n",
       "\n",
       "[5 rows x 9067 columns]"
      ]
     },
     "execution_count": 187,
     "metadata": {},
     "output_type": "execute_result"
    }
   ],
   "source": [
    "correlation_matrix['movie_id'] = correlation_matrix.index\n",
    "columns = ['movie_id'] + [col_name for col_name in correlation_matrix.columns if col_name != 'movie_id']\n",
    "correlation_matrix = correlation_matrix[columns]\n",
    "\n",
    "correlation_matrix.index.name = None\n",
    "correlation_matrix.columns.name = None\n",
    "\n",
    "correlation_matrix.head()"
   ]
  }
 ],
 "metadata": {
  "kernelspec": {
   "display_name": ".venv",
   "language": "python",
   "name": "python3"
  },
  "language_info": {
   "codemirror_mode": {
    "name": "ipython",
    "version": 3
   },
   "file_extension": ".py",
   "mimetype": "text/x-python",
   "name": "python",
   "nbconvert_exporter": "python",
   "pygments_lexer": "ipython3",
   "version": "3.12.10"
  }
 },
 "nbformat": 4,
 "nbformat_minor": 5
}
